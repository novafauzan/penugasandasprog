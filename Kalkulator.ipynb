{
 "cells": [
  {
   "cell_type": "markdown",
   "id": "99107623",
   "metadata": {
    "lines_to_next_cell": 2
   },
   "source": [
    "Nama  : Fauzan Fuadiansyah \n",
    "NIM   : J0403231085\n",
    "import unittest"
   ]
  },
  {
   "cell_type": "code",
   "execution_count": null,
   "id": "4e9c92ee",
   "metadata": {
    "lines_to_next_cell": 1
   },
   "outputs": [],
   "source": [
    "def calculator_sum(a,b):\n",
    "    \"\"\"\n",
    "    fungsi ini berguna untuk menjumlahkan dua bilangan\n",
    "\n",
    "    Args:\n",
    "    num1 : bilangan pertama\n",
    "    num2 : bilangan kedua\n",
    "\n",
    "    Returns:\n",
    "    int: hasil dari penjumlahan dua bilangan.\n",
    "\n",
    "    Example:\n",
    "    >>> calculator_sum(1,2)\n",
    "    3\n",
    "     \"\"\"\n",
    "    \n",
    "    # penjumlahan\n",
    "    result = num1 + num2\n",
    "        \n",
    "    return result"
   ]
  },
  {
   "cell_type": "code",
   "execution_count": null,
   "id": "9e4ffdf2",
   "metadata": {
    "lines_to_next_cell": 2
   },
   "outputs": [],
   "source": [
    "# input\n",
    "while True:\n",
    "    try:\n",
    "        num1 = int(input(\"masukan nilai bilangan 1: \"))\n",
    "        num2 = int(input(\"masukan nilai bilangan 2: \"))\n",
    "        print(calculator_sum(num1,num2))\n",
    "        break\n",
    "    except Exception as e:\n",
    "        print(e)"
   ]
  },
  {
   "cell_type": "code",
   "execution_count": null,
   "id": "e0ae439d",
   "metadata": {},
   "outputs": [],
   "source": [
    "print(\"\\n\")"
   ]
  },
  {
   "cell_type": "markdown",
   "id": "a69ae3df",
   "metadata": {},
   "source": [
    "unit test\n",
    "class TestStringMethods(unittest.TestCase):"
   ]
  },
  {
   "cell_type": "markdown",
   "id": "3cdddddc",
   "metadata": {},
   "source": [
    "    def test_calculator(self):\n",
    "        sum = calculator_sum(1,2)\n",
    "        self.assertEqual(sum,3)"
   ]
  },
  {
   "cell_type": "markdown",
   "id": "07a819d7",
   "metadata": {},
   "source": [
    "if __name__ == '__main__':\n",
    "    unittest.main()"
   ]
  }
 ],
 "metadata": {
  "jupytext": {
   "cell_metadata_filter": "-all",
   "main_language": "python",
   "notebook_metadata_filter": "-all"
  }
 },
 "nbformat": 4,
 "nbformat_minor": 5
}
