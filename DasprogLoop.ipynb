{
 "cells": [
  {
   "cell_type": "markdown",
   "id": "d8574081",
   "metadata": {},
   "source": [
    "Nama : Fauzan Fuadiansyah \n",
    "NIM : J0403231085\n",
    "Email : novamarsfauzan@apps.ipb.ac.id"
   ]
  },
  {
   "cell_type": "markdown",
   "id": "57a2af86",
   "metadata": {},
   "source": [
    "Format Loop\n",
    "while test:\t\t\t# Loop test\n",
    "   statements\t\t# Loop body\n",
    "   if test: break \t# Exit loop now, skip else if present\n",
    "   if test: continue \t# Go to top of loop now, to test1\n",
    "else:\n",
    "   statements \t\t# Run if we didn't hit a 'break'"
   ]
  },
  {
   "cell_type": "code",
   "execution_count": null,
   "id": "46f2cf86",
   "metadata": {},
   "outputs": [],
   "source": [
    "#Iteration variable\n",
    "favorites = ['Churros', 'Tiramisú', 'Pudding']\n",
    "count = 0\t\t# count is iteration variable\n",
    "while count < len(favorites):\n",
    "    print('One of my favorite desserts is', favorites[count]);\n",
    "    count += 1"
   ]
  },
  {
   "cell_type": "code",
   "execution_count": null,
   "id": "62764b98",
   "metadata": {},
   "outputs": [],
   "source": [
    "#Examples - Infinite Loop\n",
    "while True:  #constant condition\n",
    "    print(\"This is an infinite loop\")"
   ]
  },
  {
   "cell_type": "code",
   "execution_count": null,
   "id": "6528d384",
   "metadata": {},
   "outputs": [],
   "source": [
    "#Example - Avoid Infinite Loop using Proper Condition, User Input & Break\n",
    "text = input('masukkan sebuah huruf : ')\n",
    "while text != \"q\":\t\t\t\t\t\t\t\t\t\t\n",
    "    text = input(\"Please enter a chemical formula (or 'q' to exit): \")\t\n",
    "    if text == \"q\":\n",
    "        print(\"…exiting program\")\n",
    "        Break\t\t\t\t\t\t\t\t\t\t\t\n",
    "    elif text == \"H2O\":\n",
    "        print(\"Water\")\n",
    "    elif text == \"NH3\":\n",
    "        print(\"Ammonia\")\n",
    "    elif text == \"CH4\":\n",
    "        print(\"Methane\")\n",
    "    else:\n",
    "        print(\"Unknown compound\")"
   ]
  },
  {
   "cell_type": "code",
   "execution_count": null,
   "id": "bb73a08f",
   "metadata": {},
   "outputs": [],
   "source": [
    "#For loop example \n",
    "favorites = ['Churros', 'Tiramisú', 'Pudding']\n",
    "for dessert in favorites:\n",
    "    print('One of my favorite desserts is', dessert)"
   ]
  },
  {
   "cell_type": "code",
   "execution_count": null,
   "id": "ccf2f0d2",
   "metadata": {},
   "outputs": [],
   "source": [
    "#Loop pattern \n",
    "country = 'Republik Indonesia'\n",
    "for ch in country:\n",
    "    print(ch, end=' ')"
   ]
  },
  {
   "cell_type": "code",
   "execution_count": null,
   "id": "65f419ac",
   "metadata": {},
   "outputs": [],
   "source": [
    "#Counting\n",
    "survey_responses = [\"positive\", \"neutral\", \"positive\", \"negative\", \"positive\", \"positive\", \"neutral\"]"
   ]
  },
  {
   "cell_type": "code",
   "execution_count": null,
   "id": "26b6fcc1",
   "metadata": {},
   "outputs": [],
   "source": [
    "positive_count = 0"
   ]
  },
  {
   "cell_type": "code",
   "execution_count": null,
   "id": "38a7bbb0",
   "metadata": {},
   "outputs": [],
   "source": [
    "for response in survey_responses:\n",
    "    if response == \"positive\":\n",
    "        positive_count += 1"
   ]
  },
  {
   "cell_type": "code",
   "execution_count": null,
   "id": "39d7e1d4",
   "metadata": {},
   "outputs": [],
   "source": [
    "print(f\"Number of positive responses: {positive_count}\")"
   ]
  },
  {
   "cell_type": "code",
   "execution_count": null,
   "id": "9c283361",
   "metadata": {},
   "outputs": [],
   "source": [
    "#Summing\n",
    "sales_transactions = [100.50, 75.25, 50.75, 30.00, 45.50]"
   ]
  },
  {
   "cell_type": "code",
   "execution_count": null,
   "id": "de577abb",
   "metadata": {},
   "outputs": [],
   "source": [
    "total_revenue = 0"
   ]
  },
  {
   "cell_type": "code",
   "execution_count": null,
   "id": "14e958c9",
   "metadata": {},
   "outputs": [],
   "source": [
    "for transaction in sales_transactions:\n",
    "    total_revenue += transaction"
   ]
  },
  {
   "cell_type": "code",
   "execution_count": null,
   "id": "ab3bd7f6",
   "metadata": {},
   "outputs": [],
   "source": [
    "print(f\"Total revenue: ${total_revenue:.2f}\")"
   ]
  },
  {
   "cell_type": "code",
   "execution_count": null,
   "id": "902645e3",
   "metadata": {},
   "outputs": [],
   "source": [
    "#Filtering\n",
    "email_addresses = [\"user1@spam.com\", \"user2@gmail.com\", \"user3@spam.com\"]"
   ]
  },
  {
   "cell_type": "code",
   "execution_count": null,
   "id": "fcb56528",
   "metadata": {},
   "outputs": [],
   "source": [
    "spam_emails = []"
   ]
  },
  {
   "cell_type": "code",
   "execution_count": null,
   "id": "fd4e6190",
   "metadata": {},
   "outputs": [],
   "source": [
    "for email in email_addresses:\n",
    "    if email.endswith(\"@spam.com\"):\n",
    "        spam_emails.append(email)\t\t"
   ]
  },
  {
   "cell_type": "code",
   "execution_count": null,
   "id": "73485abe",
   "metadata": {},
   "outputs": [],
   "source": [
    "print(\"Spam emails:\")\n",
    "for email in spam_emails:\n",
    "    print(email)"
   ]
  },
  {
   "cell_type": "code",
   "execution_count": null,
   "id": "ff626905",
   "metadata": {},
   "outputs": [],
   "source": [
    "#Searching\n",
    "student_names = [\"Alice\", \"Bob\", \"Charlie\", \"David\"]\n",
    "student_name_to_search = \"Charlie\""
   ]
  },
  {
   "cell_type": "code",
   "execution_count": null,
   "id": "2a86e072",
   "metadata": {},
   "outputs": [],
   "source": [
    "student_found = False"
   ]
  },
  {
   "cell_type": "code",
   "execution_count": null,
   "id": "2f72e5ca",
   "metadata": {},
   "outputs": [],
   "source": [
    "for name in student_names:\n",
    "    if name == student_name_to_search:\n",
    "        student_found = True\n",
    "        break"
   ]
  },
  {
   "cell_type": "code",
   "execution_count": null,
   "id": "4e4ea778",
   "metadata": {},
   "outputs": [],
   "source": [
    "if student_found:\n",
    "    print(f\"Student {student_name_to_search} found.\")\n",
    "else:\n",
    "    print(f\"Student {student_name_to_search} not found.\")"
   ]
  },
  {
   "cell_type": "code",
   "execution_count": null,
   "id": "c6d9d01e",
   "metadata": {},
   "outputs": [],
   "source": [
    "#Finding Maximum/Minimum\n",
    "temperatures = [75, 82, 79, 88, 91, 84, 77]\n",
    "max_temperature = temperatures[0]"
   ]
  },
  {
   "cell_type": "code",
   "execution_count": null,
   "id": "e5d33cda",
   "metadata": {},
   "outputs": [],
   "source": [
    "for temperature in temperatures:\n",
    "    if temperature > max_temperature:\n",
    "        max_temperature = temperature"
   ]
  },
  {
   "cell_type": "code",
   "execution_count": null,
   "id": "d5ab0f4b",
   "metadata": {},
   "outputs": [],
   "source": [
    "print(f\"The maximum temperature of the week was {max_temperature}°F.\")"
   ]
  },
  {
   "cell_type": "code",
   "execution_count": null,
   "id": "291a3ae3",
   "metadata": {},
   "outputs": [],
   "source": [
    "#Range()Function \n",
    "import time"
   ]
  },
  {
   "cell_type": "code",
   "execution_count": null,
   "id": "c980c201",
   "metadata": {},
   "outputs": [],
   "source": [
    "countdown_seconds = 5"
   ]
  },
  {
   "cell_type": "code",
   "execution_count": null,
   "id": "04d7f8ce",
   "metadata": {},
   "outputs": [],
   "source": [
    "print(\"Get ready for liftoff!\")\n",
    "for remaining_seconds in range(countdown_seconds, 0, -1):\n",
    "    print(f\"{remaining_seconds}...\")\n",
    "    time.sleep(1)"
   ]
  },
  {
   "cell_type": "code",
   "execution_count": null,
   "id": "814e5ac0",
   "metadata": {},
   "outputs": [],
   "source": [
    "print(\"Blast off!\")"
   ]
  },
  {
   "cell_type": "code",
   "execution_count": null,
   "id": "dab34bef",
   "metadata": {},
   "outputs": [],
   "source": [
    "#Nesting Loops\n",
    "height = 5  # Height of the pyramid"
   ]
  },
  {
   "cell_type": "code",
   "execution_count": null,
   "id": "05c370a8",
   "metadata": {},
   "outputs": [],
   "source": [
    "for i in range(1, height + 1):\n",
    "    # Print spaces before the stars\n",
    "    for j in range(height - i):\n",
    "        print(\" \", end=\"\")\n",
    "\n",
    "    # Print the stars\n",
    "    for k in range(2 * i - 1):\n",
    "        print(\"*\", end=\"\")\n",
    "\n",
    "    # Move to the next line after each row\n",
    "    print()"
   ]
  },
  {
   "cell_type": "code",
   "execution_count": null,
   "id": "d59329b2",
   "metadata": {},
   "outputs": [],
   "source": [
    "#Controlling loop with else \n",
    "favorites = ['Churros', 'Tiramisú', 'Pudding']"
   ]
  },
  {
   "cell_type": "code",
   "execution_count": null,
   "id": "a7a59939",
   "metadata": {},
   "outputs": [],
   "source": [
    "for dessert in favorites:\n",
    "    if dessert == 'Pudding':\n",
    "        print('Yes one of my favorite desserts is', dessert) \n",
    "else:\n",
    "    print('No sorry, that dessert is not on my list')"
   ]
  },
  {
   "cell_type": "code",
   "execution_count": null,
   "id": "c066a4c2",
   "metadata": {},
   "outputs": [],
   "source": [
    "#Controlling loop with break \n",
    "favorites = ['Churros', 'Tiramisú', 'Pudding']"
   ]
  },
  {
   "cell_type": "code",
   "execution_count": null,
   "id": "01985110",
   "metadata": {},
   "outputs": [],
   "source": [
    "for dessert in favorites:\n",
    "    if dessert == 'Pudding':\n",
    "        print('My favorite is', dessert)\n",
    "        break \n",
    "else:\n",
    "    print('No sorry, not a dessert on my list')"
   ]
  },
  {
   "cell_type": "code",
   "execution_count": null,
   "id": "ed1f750a",
   "metadata": {},
   "outputs": [],
   "source": [
    "#Continue in loops\n",
    "snacks_in_stock = [\"chips\", \"candy\", \"soda\", \"cookies\"]\n",
    "user_choice = \"\""
   ]
  },
  {
   "cell_type": "code",
   "execution_count": null,
   "id": "268ef69d",
   "metadata": {},
   "outputs": [],
   "source": [
    "while user_choice != \"q\":\n",
    "    user_choice = input(\"Enter your snack choice (or 'q' to exit): \")\n",
    "\n",
    "    # Check if the user wants to quit\n",
    "    if user_choice == \"q\":\n",
    "        print(\"Thank you for using the vending machine.\")\n",
    "        break\n",
    "\n",
    "    # Check if the selected snack is in stock\n",
    "    if user_choice not in snacks_in_stock:\n",
    "        print(\"Sorry, that snack is not available.\")\n",
    "        continue  # Continue iteration without dispensing the snack\n",
    "\n",
    "    # Dispense the selected snack\n",
    "    print(f\"Dispensing {user_choice}. Enjoy your snack!\")"
   ]
  },
  {
   "cell_type": "code",
   "execution_count": null,
   "id": "d05cbc49",
   "metadata": {},
   "outputs": [],
   "source": [
    "print(\"Vending machine session ended.\")"
   ]
  },
  {
   "cell_type": "code",
   "execution_count": null,
   "id": "f2df32c0",
   "metadata": {},
   "outputs": [],
   "source": [
    "#Pass in loops\n",
    "valid_login = \"admin\"\n",
    "valid_password = \"password\""
   ]
  },
  {
   "cell_type": "code",
   "execution_count": null,
   "id": "c6b80f97",
   "metadata": {},
   "outputs": [],
   "source": [
    "while True:\n",
    "    login = input(\"Enter your login: \")\n",
    "    password = input(\"Enter your password: \")\n",
    "\n",
    "    if login == valid_login and password == valid_password:\n",
    "        print(\"Authentication successful!\")\n",
    "        break\n",
    "    else:\n",
    "        print(\"Invalid credentials. Please try again.\")\n",
    "        pass  # Placeholder for later (e.g., account lockout)"
   ]
  },
  {
   "cell_type": "code",
   "execution_count": null,
   "id": "f2bab018",
   "metadata": {
    "lines_to_next_cell": 2
   },
   "outputs": [],
   "source": [
    "print(\"Welcome, admin!\")"
   ]
  }
 ],
 "metadata": {
  "jupytext": {
   "cell_metadata_filter": "-all",
   "main_language": "python",
   "notebook_metadata_filter": "-all"
  }
 },
 "nbformat": 4,
 "nbformat_minor": 5
}
