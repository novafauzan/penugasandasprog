{
 "cells": [
  {
   "cell_type": "markdown",
   "id": "f19764ed",
   "metadata": {},
   "source": [
    "Nama  : Fauzan Fuadiansyah \n",
    "NIM   : J0403231085\n",
    "import unittest"
   ]
  },
  {
   "cell_type": "code",
   "execution_count": null,
   "id": "7cd8ec21",
   "metadata": {},
   "outputs": [],
   "source": [
    "def convert_temperature(temp,value):\n",
    "    \"\"\"\n",
    "    This function converted Celcius between Fahrenheit\n",
    "\n",
    "    Args:\n",
    "    temp (string):  temperatur yang ingin di ubah.\n",
    "    value (int): nilai value.\n",
    "\n",
    "    Returns:\n",
    "    float: converted temperature.\n",
    "\n",
    "    Example:\n",
    "    >>> convert_temperature(\"C\",50)\n",
    "    122\n",
    "     \"\"\"\n",
    "    \n",
    "    # mengubah temperatur menjadi lowercase\n",
    "    temp = temp.lower()\n",
    "    \n",
    "    # konversi suhu\n",
    "    if(temp == \"c\"):\n",
    "        result = (value * 9/5) + 32 \n",
    "    elif(temp == \"f\"):\n",
    "        result = (value - 32) * 5/9  \n",
    "    else:\n",
    "        raise Exception(\"You did not select an option provided!\")\n",
    "        \n",
    "    \n",
    "    return result"
   ]
  },
  {
   "cell_type": "code",
   "execution_count": null,
   "id": "776d1a2b",
   "metadata": {
    "lines_to_next_cell": 2
   },
   "outputs": [],
   "source": [
    "# input\n",
    "while True:\n",
    "    try:\n",
    "        temp = input(\"masukan temperatur yang ingin di convert : \")\n",
    "        value = int(input(\"masukan nilai suhu : \"))\n",
    "\n",
    "        print(convert_temperature(temp,value))\n",
    "        break\n",
    "    except Exception as e:\n",
    "        print(e)"
   ]
  },
  {
   "cell_type": "markdown",
   "id": "d8d6ae27",
   "metadata": {},
   "source": [
    "print(\"\\n\")"
   ]
  },
  {
   "cell_type": "markdown",
   "id": "1f6500d0",
   "metadata": {},
   "source": [
    "# unit test\n",
    "class TestStringMethods(unittest.TestCase):"
   ]
  },
  {
   "cell_type": "markdown",
   "id": "da04a1fe",
   "metadata": {},
   "source": [
    "    def test_celcius_to_fahrenheit(self):\n",
    "        fahrenheit = convert_temperature(\"c\",50)\n",
    "        self.assertEqual(fahrenheit, 122)"
   ]
  },
  {
   "cell_type": "markdown",
   "id": "3abc9c95",
   "metadata": {},
   "source": [
    "    def test_fahrenheit_to_celcius(self):\n",
    "        celcius = convert_temperature(\"f\",50)\n",
    "        self.assertEqual(celcius, 10)"
   ]
  },
  {
   "cell_type": "markdown",
   "id": "55335bbb",
   "metadata": {},
   "source": [
    "if __name__ == '__main__':\n",
    "    unittest.main()"
   ]
  }
 ],
 "metadata": {
  "jupytext": {
   "cell_metadata_filter": "-all",
   "main_language": "python",
   "notebook_metadata_filter": "-all"
  }
 },
 "nbformat": 4,
 "nbformat_minor": 5
}
