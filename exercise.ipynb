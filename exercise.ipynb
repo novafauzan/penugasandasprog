{
 "cells": [
  {
   "cell_type": "code",
   "execution_count": null,
   "id": "a7a942ca",
   "metadata": {},
   "outputs": [],
   "source": [
    "def average(num1: float, num2: float) -> float:\n",
    "    \"\"\"Return the average of num1 and num2.\n",
    "    >>> average(10,20)\n",
    "    15.0\n",
    "    >>> average(2.5, 3.0)\n",
    "    2.75\n",
    "    \"\"\"\n",
    "    return (num1 + num2) / 2\n",
    "import doctest \n",
    "doctest.testmod()"
   ]
  }
 ],
 "metadata": {
  "jupytext": {
   "cell_metadata_filter": "-all",
   "main_language": "python",
   "notebook_metadata_filter": "-all"
  }
 },
 "nbformat": 4,
 "nbformat_minor": 5
}
