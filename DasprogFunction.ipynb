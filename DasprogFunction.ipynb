{
 "cells": [
  {
   "cell_type": "markdown",
   "id": "037d8ea7",
   "metadata": {},
   "source": [
    "Nama : Fauzan Fuadiasnyah \n",
    "NIM : J0403231085"
   ]
  },
  {
   "cell_type": "code",
   "execution_count": null,
   "id": "2815ef16",
   "metadata": {
    "lines_to_next_cell": 1
   },
   "outputs": [],
   "source": [
    "#Call Function \n",
    "def fun():\n",
    "    print(\"My fun function\")\n",
    "fun()"
   ]
  },
  {
   "cell_type": "code",
   "execution_count": null,
   "id": "0f95785f",
   "metadata": {
    "lines_to_next_cell": 1
   },
   "outputs": [],
   "source": [
    "#Parameters & Arguments \n",
    "def sum(a,b):\n",
    "    print(a+b)\n",
    "sum(1,2)"
   ]
  },
  {
   "cell_type": "code",
   "execution_count": null,
   "id": "4605dda5",
   "metadata": {
    "lines_to_next_cell": 1
   },
   "outputs": [],
   "source": [
    "#Arguments-Positional \n",
    "def greet(name, greeting):\n",
    "    print(f\"{greeting}, {name}!\")\n",
    "greet(\"Alice\", \"Hello\")"
   ]
  },
  {
   "cell_type": "code",
   "execution_count": null,
   "id": "4ed442a0",
   "metadata": {
    "lines_to_next_cell": 1
   },
   "outputs": [],
   "source": [
    "#Arguments-keyword\n",
    "def greet(name, greeting):\n",
    "    print(f\"{greeting}, {name}!\")\n",
    "greet(greeting=\"Hi\", name=\"Bob\")"
   ]
  },
  {
   "cell_type": "code",
   "execution_count": null,
   "id": "6976d71c",
   "metadata": {
    "lines_to_next_cell": 1
   },
   "outputs": [],
   "source": [
    "#Arguments-default\n",
    "def greet(name, greeting=\"Hello\"):\n",
    "    print(f\"{greeting}, {name}!\")\n",
    "greet(\"Eve\") "
   ]
  },
  {
   "cell_type": "code",
   "execution_count": null,
   "id": "997a368b",
   "metadata": {
    "lines_to_next_cell": 1
   },
   "outputs": [],
   "source": [
    "#Arguments - Arbitrary - *args\n",
    "def print_args(*args):\n",
    "    for arg in args:\n",
    "    print(arg)\n",
    "print_args(1, \"apple\", True)"
   ]
  },
  {
   "cell_type": "code",
   "execution_count": null,
   "id": "ad7f9103",
   "metadata": {
    "lines_to_next_cell": 1
   },
   "outputs": [],
   "source": [
    "#Arguments - Arbitrary - *kwargs\n",
    "def print_kwargs(**kwargs):\n",
    " for key, value in kwargs.items():\n",
    "    print(f\"{key}: {value}\")\n",
    "print_kwargs(name=\"Alice\", age=30)"
   ]
  },
  {
   "cell_type": "code",
   "execution_count": null,
   "id": "e78a259a",
   "metadata": {
    "lines_to_next_cell": 1
   },
   "outputs": [],
   "source": [
    "#Arguments - Passing Lists/Dictionaries/etc.\n",
    "def print_list(numbers):\n",
    " for num in numbers:\n",
    "    print(num)"
   ]
  },
  {
   "cell_type": "code",
   "execution_count": null,
   "id": "a3d112f8",
   "metadata": {
    "lines_to_next_cell": 1
   },
   "outputs": [],
   "source": [
    "print_list([1, 2, 3, 4])"
   ]
  },
  {
   "cell_type": "code",
   "execution_count": null,
   "id": "33c17fcb",
   "metadata": {
    "lines_to_next_cell": 1
   },
   "outputs": [],
   "source": [
    "def print_dict(my_dict):\n",
    " for key, value in my_dict.items():\n",
    "    print(f\"{key}: {value}\")"
   ]
  },
  {
   "cell_type": "code",
   "execution_count": null,
   "id": "186e9f92",
   "metadata": {
    "lines_to_next_cell": 1
   },
   "outputs": [],
   "source": [
    "print_dict({\"name\": \"Bob\", \"age\": 25})"
   ]
  },
  {
   "cell_type": "code",
   "execution_count": null,
   "id": "e2a6c716",
   "metadata": {
    "lines_to_next_cell": 1
   },
   "outputs": [],
   "source": [
    "#Different argument combinations\n",
    "def f(a, *b, c=6, **d): \n",
    "    print(f\"a: {a}\")\n",
    "    print(f\"b: {b}\")\n",
    "    print(f\"c: {c}\")\n",
    "    print(f\"d: {d}\") "
   ]
  },
  {
   "cell_type": "code",
   "execution_count": null,
   "id": "10ee5991",
   "metadata": {
    "lines_to_next_cell": 1
   },
   "outputs": [],
   "source": [
    "f(1, 2, 3, x=4, y=5) \n",
    "f(1, 2, 3, c=7, x=4, y=5) "
   ]
  },
  {
   "cell_type": "code",
   "execution_count": null,
   "id": "a38729c7",
   "metadata": {
    "lines_to_next_cell": 1
   },
   "outputs": [],
   "source": [
    "#Return Statements-Examples\n",
    "#This function adds two numbers and returns the result.\n",
    "def add_numbers(a, b):\n",
    "    result = a + b\n",
    "    return result"
   ]
  },
  {
   "cell_type": "code",
   "execution_count": null,
   "id": "a137e31c",
   "metadata": {
    "lines_to_next_cell": 1
   },
   "outputs": [],
   "source": [
    "sum_result = add_numbers(5, 3)\n",
    "print(f\"The sum is: {sum_result}\")"
   ]
  },
  {
   "cell_type": "code",
   "execution_count": null,
   "id": "e45400b2",
   "metadata": {},
   "outputs": [],
   "source": [
    "#This function greets the person passed in as a parameter.\n",
    "def greet(name):\n",
    "     print(f\"Hello, {name}!\")\n",
    "greet(\"Alice\")"
   ]
  },
  {
   "cell_type": "code",
   "execution_count": null,
   "id": "72c4de22",
   "metadata": {
    "lines_to_next_cell": 1
   },
   "outputs": [],
   "source": [
    "#executed at runtime\n",
    "if 'a' == 'a':\n",
    "    def greet():\n",
    "        return \"Hello, World!\"\n",
    "else:\n",
    "    def greet():\n",
    "        return \"Hi there!\""
   ]
  },
  {
   "cell_type": "code",
   "execution_count": null,
   "id": "54cc8892",
   "metadata": {
    "lines_to_next_cell": 1
   },
   "outputs": [],
   "source": [
    "def say_hello():\n",
    "    print(\"Hello, World!\")"
   ]
  },
  {
   "cell_type": "code",
   "execution_count": null,
   "id": "dcd6e341",
   "metadata": {
    "lines_to_next_cell": 1
   },
   "outputs": [],
   "source": [
    "greeting = say_hello # Assigning the function to a different name\n",
    "greeting() # Calls the function\n",
    "def say_hello():\n",
    "    print(\"Hello, Python!\")\n",
    "say_hello() # Calls the updated function"
   ]
  },
  {
   "cell_type": "code",
   "execution_count": null,
   "id": "a3486e12",
   "metadata": {
    "lines_to_next_cell": 1
   },
   "outputs": [],
   "source": [
    "#first class object\n",
    "def greet(name):\n",
    "    return f\"Hello, {name}!\"\n",
    "my_function = greet\n",
    "result = my_function(\"Alice\")\n",
    "print(result) "
   ]
  },
  {
   "cell_type": "code",
   "execution_count": null,
   "id": "59ce4a2b",
   "metadata": {
    "lines_to_next_cell": 1
   },
   "outputs": [],
   "source": [
    "#first class object - another examples\n",
    "#Example 1\n",
    "def apply(func, x):\n",
    "    return func(x)\n",
    "def square(x):\n",
    "    return x * x\n",
    "result = apply(square, 5)\n",
    "print(result)\n",
    "#Example 2\n",
    "def get_multiplier(factor):\n",
    " def multiplier(x):\n",
    "    return x * factor\n",
    " return multiplier\n",
    "double = get_multiplier(2)\n",
    "triple = get_multiplier(3)\n",
    "print(double(5)) \n",
    "print(triple(5))"
   ]
  },
  {
   "cell_type": "code",
   "execution_count": null,
   "id": "d07bd59a",
   "metadata": {},
   "outputs": [],
   "source": [
    "#Example\n",
    "def my_function():\n",
    "    x = 10 \n",
    "    print(x)\n",
    "def outer_function():\n",
    "    y = 20 \n",
    "    def inner_function():\n",
    "        print(y) \n",
    "z = 30 \n",
    "def another_function():\n",
    "    print(z) \n",
    "print(len(\"Hello, World!\"))"
   ]
  },
  {
   "cell_type": "code",
   "execution_count": null,
   "id": "0ff4cb75",
   "metadata": {
    "lines_to_next_cell": 1
   },
   "outputs": [],
   "source": [
    "#Scope - Global keyword\n",
    "global_var = 10 \n",
    "def modify_global():\n",
    "    global global_var \n",
    "    global_var = 20\n",
    "modify_global()\n",
    "print(global_var)"
   ]
  },
  {
   "cell_type": "code",
   "execution_count": null,
   "id": "7c969a58",
   "metadata": {
    "lines_to_next_cell": 1
   },
   "outputs": [],
   "source": [
    "#Pass by Object Reference\n",
    "def modify_list(my_list):\n",
    "    my_list.append(4) # Modifying the list inside the function\n",
    "my_list = [1, 2, 3]\n",
    "modify_list(my_list)\n",
    "print(my_list) # Output: [1, 2, 3, 4]"
   ]
  },
  {
   "cell_type": "code",
   "execution_count": null,
   "id": "e631e154",
   "metadata": {
    "lines_to_next_cell": 1
   },
   "outputs": [],
   "source": [
    "def reassign_list(list):\n",
    "    list = [4, 5, 6] # Reassigning the list to a new object\n",
    "list = [1, 2, 3]\n",
    "reassign_list(list)\n",
    "print(list) # Output: [1, 2, 3]"
   ]
  },
  {
   "cell_type": "code",
   "execution_count": null,
   "id": "b0e70613",
   "metadata": {
    "lines_to_next_cell": 1
   },
   "outputs": [],
   "source": [
    "#Pass by Object Reference\n",
    "def modify_integer(x):\n",
    "     x += 1 # Modifying the integer inside the function\n",
    "my_integer = 5\n",
    "modify_integer(my_integer)\n",
    "print(my_integer) # Output: 5"
   ]
  },
  {
   "cell_type": "code",
   "execution_count": null,
   "id": "e0f7c96a",
   "metadata": {},
   "outputs": [],
   "source": [
    "#Function Overloading\n",
    "def product(a, b):\n",
    "    print(a * b)\n",
    "def product(a, b, c):\n",
    "    print(a * b * c)\n",
    "# product(4, 5) # Uncommenting this shows an error\n",
    "product(4, 5, 5) # This line will call the last function\n",
    "# Try using *args to solve that problem"
   ]
  },
  {
   "cell_type": "code",
   "execution_count": null,
   "id": "df41b66f",
   "metadata": {
    "lines_to_next_cell": 1
   },
   "outputs": [],
   "source": [
    "#Function Recursion\n",
    "def factorial(n):\n",
    "    if n == 0:\n",
    "        return 1\n",
    "    else:\n",
    "        return n * factorial(n - 1)\n",
    "result = factorial(5)\n",
    "print(result) # Output: 120"
   ]
  },
  {
   "cell_type": "code",
   "execution_count": null,
   "id": "d1057c82",
   "metadata": {
    "lines_to_next_cell": 1
   },
   "outputs": [],
   "source": [
    "#Error Handling - Example\n",
    "def divide(x, y):\n",
    "    try:\n",
    "        result = x / y\n",
    "    except ZeroDivisionError:\n",
    "        print(\"Error: Division by zero\")\n",
    "        return None\n",
    "    except TypeError:\n",
    "        print(\"Error: Invalid data types\")\n",
    "        return None\n",
    "    except Exception as e:\n",
    "        print(f\"An unexpected error occurred: {e}\")\n",
    "        return None\n",
    "    else:\n",
    "        return result\n",
    "    finally:\n",
    "        print(\"Division operation complete\")\n",
    "# Example usages\n",
    "print(divide(10, 2)) # Output: 5.0\n",
    "print(divide(10, 0)) # Output: Error: Division by zero\\nDivision operation complete\\nNone\n",
    "print(divide(\"10\", 0)) # Output: Error: Invalid data types\\nDivision operation complete\\nNone"
   ]
  },
  {
   "cell_type": "code",
   "execution_count": null,
   "id": "6279c133",
   "metadata": {
    "lines_to_next_cell": 2
   },
   "outputs": [],
   "source": [
    "#Docstrings - Examples\n",
    "#This function adds two numbers together.\n",
    "def add(a, b):\n",
    "    Args :\n",
    "    a (int): The first number to be added.\n",
    "    b (int): The second number to be added.\n",
    " \n",
    "    Returns : \n",
    "    int: The sum of the two input numbers.\n",
    " \n",
    "    Example :\n",
    "    >>> add(3, 4)\n",
    "    7\n",
    "    return a + b\n",
    "help(add) # Displays the docstring"
   ]
  }
 ],
 "metadata": {
  "jupytext": {
   "cell_metadata_filter": "-all",
   "main_language": "python",
   "notebook_metadata_filter": "-all"
  }
 },
 "nbformat": 4,
 "nbformat_minor": 5
}
